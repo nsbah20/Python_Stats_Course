{
 "cells": [
  {
   "cell_type": "markdown",
   "id": "71f64f19",
   "metadata": {},
   "source": [
    "# Module 7: ANOVA and Beyond\n",
    "Analysis of Variance (ANOVA) is used to test whether there are significant differences between the means of three or more independent groups."
   ]
  },
  {
   "cell_type": "markdown",
   "id": "56c9211e",
   "metadata": {},
   "source": [
    "## 🎯 Learning Objectives\n",
    "- Understand the purpose of ANOVA\n",
    "- Perform One-Way and Two-Way ANOVA\n",
    "- Interpret F-statistics and p-values\n",
    "- Use post-hoc tests to investigate group differences"
   ]
  },
  {
   "cell_type": "markdown",
   "id": "afdd43eb",
   "metadata": {},
   "source": [
    "## 📊 What is ANOVA?\n",
    "ANOVA compares group means to see if at least one group mean is significantly different.\n",
    "\n",
    "It works by analyzing the variance within groups and between groups.\n",
    "\n",
    "**Hypotheses:**\n",
    "- Null Hypothesis ($H_0$): All group means are equal\n",
    "- Alternative Hypothesis ($H_1$): At least one group mean is different"
   ]
  },
  {
   "cell_type": "markdown",
   "id": "13ff0d44",
   "metadata": {},
   "source": [
    "## 🧪 One-Way ANOVA Example"
   ]
  },
  {
   "cell_type": "code",
   "execution_count": null,
   "id": "e57f34be",
   "metadata": {},
   "outputs": [],
   "source": [
    "import pandas as pd\n",
    "import numpy as np\n",
    "import matplotlib.pyplot as plt\n",
    "import seaborn as sns\n",
    "from scipy.stats import f_oneway\n",
    "\n",
    "# Simulate scores for 3 teaching methods\n",
    "np.random.seed(42)\n",
    "method_A = np.random.normal(75, 10, 30)\n",
    "method_B = np.random.normal(80, 10, 30)\n",
    "method_C = np.random.normal(70, 10, 30)\n",
    "\n",
    "# Perform One-Way ANOVA\n",
    "f_stat, p_val = f_oneway(method_A, method_B, method_C)\n",
    "print(f\"F-statistic: {f_stat:.2f}, P-value: {p_val:.4f}\")"
   ]
  },
  {
   "cell_type": "markdown",
   "id": "36724ac5",
   "metadata": {},
   "source": [
    "**Interpretation:** A low p-value (typically < 0.05) suggests that at least one group mean is significantly different."
   ]
  },
  {
   "cell_type": "markdown",
   "id": "4df4be6b",
   "metadata": {},
   "source": [
    "## 📈 Visualizing Group Distributions"
   ]
  },
  {
   "cell_type": "code",
   "execution_count": null,
   "id": "dc2ba620",
   "metadata": {},
   "outputs": [],
   "source": [
    "df = pd.DataFrame({\n",
    "    'Score': np.concatenate([method_A, method_B, method_C]),\n",
    "    'Method': ['A']*30 + ['B']*30 + ['C']*30\n",
    "})\n",
    "sns.boxplot(data=df, x='Method', y='Score')\n",
    "plt.title('Scores by Teaching Method')\n",
    "plt.show()"
   ]
  },
  {
   "cell_type": "markdown",
   "id": "de199623",
   "metadata": {},
   "source": [
    "## 🔁 Two-Way ANOVA (with interaction)\n",
    "Two-Way ANOVA includes two categorical independent variables.\n",
    "\n",
    "Example: Does test score depend on both teaching method and instructor?"
   ]
  },
  {
   "cell_type": "code",
   "execution_count": null,
   "id": "eed77bf2",
   "metadata": {},
   "outputs": [],
   "source": [
    "import statsmodels.api as sm\n",
    "from statsmodels.formula.api import ols\n",
    "\n",
    "# Simulate full dataset\n",
    "df = pd.DataFrame({\n",
    "    'Score': np.concatenate([method_A, method_B, method_C]),\n",
    "    'Method': ['A']*30 + ['B']*30 + ['C']*30,\n",
    "    'Instructor': ['X']*15 + ['Y']*15 + ['X']*15 + ['Y']*15 + ['X']*15 + ['Y']*15\n",
    "})\n",
    "\n",
    "# Fit ANOVA model\n",
    "model = ols('Score ~ C(Method) + C(Instructor) + C(Method):C(Instructor)', data=df).fit()\n",
    "anova_table = sm.stats.anova_lm(model, typ=2)\n",
    "print(anova_table)"
   ]
  },
  {
   "cell_type": "markdown",
   "id": "1c64eb15",
   "metadata": {},
   "source": [
    "## 🔎 Post-hoc Testing\n",
    "If ANOVA is significant, post-hoc tests like Tukey's HSD can identify *which* groups differ."
   ]
  },
  {
   "cell_type": "code",
   "execution_count": null,
   "id": "c0de48df",
   "metadata": {},
   "outputs": [],
   "source": [
    "from statsmodels.stats.multicomp import pairwise_tukeyhsd\n",
    "\n",
    "posthoc = pairwise_tukeyhsd(df['Score'], df['Method'])\n",
    "print(posthoc)"
   ]
  },
  {
   "cell_type": "markdown",
   "id": "a16bcf03",
   "metadata": {},
   "source": [
    "## ✅ Practice Exercises\n",
    "1. Simulate data for four groups and perform a One-Way ANOVA.\n",
    "2. Visualize distributions with boxplots and interpret spread.\n",
    "3. Add a second factor and run a Two-Way ANOVA.\n",
    "4. Use post-hoc tests to identify which group means differ.\n",
    "5. Reflect: What does the interaction term tell you in Two-Way ANOVA?"
   ]
  }
 ],
 "metadata": {},
 "nbformat": 4,
 "nbformat_minor": 5
}
