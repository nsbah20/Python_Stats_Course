{
 "cells": [
  {
   "cell_type": "markdown",
   "id": "af5a5f97",
   "metadata": {},
   "source": [
    "# Module 4: Multiple Linear Regression\n",
    "Multiple Linear Regression (MLR) is an extension of simple linear regression where more than one independent variable is used to predict a dependent variable."
   ]
  },
  {
   "cell_type": "markdown",
   "id": "e6c45023",
   "metadata": {},
   "source": [
    "## 🎯 Learning Objectives\n",
    "- Understand how multiple variables influence an outcome\n",
    "- Build and interpret multiple regression models in Python\n",
    "- Evaluate model fit with R-squared and p-values\n",
    "- Check for multicollinearity and examine residuals"
   ]
  },
  {
   "cell_type": "markdown",
   "id": "13fefebe",
   "metadata": {},
   "source": [
    "## 🧠 What is Multiple Linear Regression?\n",
    "MLR models the linear relationship between a continuous outcome and two or more predictors.\n",
    "\n",
    "General form:\n",
    "$$ Y = \\beta_0 + \\beta_1X_1 + \\beta_2X_2 + ... + \\beta_kX_k + \\varepsilon $$\n",
    "- $Y$: Dependent variable\n",
    "- $X_1...X_k$: Independent variables\n",
    "- $\\beta_0$: Intercept\n",
    "- $\\beta_1...\\beta_k$: Coefficients\n",
    "- $\\varepsilon$: Error term"
   ]
  },
  {
   "cell_type": "markdown",
   "id": "4166f514",
   "metadata": {},
   "source": [
    "## 📦 Example: Predicting Exam Scores\n",
    "We’ll use hours studied and attendance rate to predict exam scores."
   ]
  },
  {
   "cell_type": "code",
   "execution_count": null,
   "id": "9f6d4986",
   "metadata": {},
   "outputs": [],
   "source": [
    "import pandas as pd\n",
    "import statsmodels.api as sm\n",
    "\n",
    "# Simulated dataset\n",
    "data = pd.DataFrame({\n",
    "    'hours_studied': [2, 3, 5, 7, 9, 10],\n",
    "    'attendance': [80, 85, 90, 95, 98, 99],\n",
    "    'score': [50, 55, 65, 70, 78, 85]\n",
    "})\n",
    "\n",
    "X = data[['hours_studied', 'attendance']]\n",
    "X = sm.add_constant(X)  # add intercept\n",
    "y = data['score']\n",
    "\n",
    "model = sm.OLS(y, X).fit()\n",
    "print(model.summary())"
   ]
  },
  {
   "cell_type": "markdown",
   "id": "21115bb3",
   "metadata": {},
   "source": [
    "## 🔍 Interpreting Output\n",
    "- **Coefficients**: How much the target changes per unit increase in predictor\n",
    "- **R-squared**: Proportion of variance explained by the model\n",
    "- **p-values**: Check statistical significance of predictors"
   ]
  },
  {
   "cell_type": "markdown",
   "id": "7ead1038",
   "metadata": {},
   "source": [
    "## 📏 Checking Multicollinearity with VIF"
   ]
  },
  {
   "cell_type": "code",
   "execution_count": null,
   "id": "49b36644",
   "metadata": {},
   "outputs": [],
   "source": [
    "from statsmodels.stats.outliers_influence import variance_inflation_factor\n",
    "\n",
    "vif_data = pd.DataFrame()\n",
    "vif_data['feature'] = X.columns\n",
    "vif_data['VIF'] = [variance_inflation_factor(X.values, i) for i in range(X.shape[1])]\n",
    "print(vif_data)"
   ]
  },
  {
   "cell_type": "markdown",
   "id": "252a3988",
   "metadata": {},
   "source": [
    "## 📈 Visualizing Residuals\n",
    "Residuals should be randomly scattered for assumptions to hold."
   ]
  },
  {
   "cell_type": "code",
   "execution_count": null,
   "id": "1909833b",
   "metadata": {},
   "outputs": [],
   "source": [
    "import matplotlib.pyplot as plt\n",
    "\n",
    "residuals = model.resid\n",
    "fitted = model.fittedvalues\n",
    "\n",
    "plt.scatter(fitted, residuals)\n",
    "plt.axhline(0, color='red', linestyle='--')\n",
    "plt.xlabel('Fitted Values')\n",
    "plt.ylabel('Residuals')\n",
    "plt.title('Residuals vs Fitted')\n",
    "plt.show()"
   ]
  },
  {
   "cell_type": "markdown",
   "id": "aad5dd46",
   "metadata": {},
   "source": [
    "## 🧠 Good Practices in MLR\n",
    "- Avoid using too many predictors with small datasets\n",
    "- Check correlation among predictors\n",
    "- Interpret coefficients in context\n",
    "- Use adjusted R² for better model evaluation"
   ]
  },
  {
   "cell_type": "markdown",
   "id": "8ad13e66",
   "metadata": {},
   "source": [
    "## ✅ Practice Exercises\n",
    "1. Use a dataset with at least three predictors to fit an MLR model.\n",
    "2. Interpret the regression coefficients and R-squared.\n",
    "3. Check for multicollinearity using VIF.\n",
    "4. Create a residual plot and assess model assumptions.\n",
    "5. Try adding or removing predictors—how does model performance change?"
   ]
  }
 ],
 "metadata": {},
 "nbformat": 4,
 "nbformat_minor": 5
}
