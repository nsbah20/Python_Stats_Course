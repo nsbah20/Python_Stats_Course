{
 "cells": [
  {
   "cell_type": "markdown",
   "id": "33f724fd",
   "metadata": {},
   "source": [
    "# Module 8: Resampling and Simulation\n",
    "In this module, we explore bootstrap resampling, permutation testing, and Monte Carlo simulation — techniques that help us estimate uncertainty and test hypotheses using repeated sampling."
   ]
  },
  {
   "cell_type": "markdown",
   "id": "6b92b8f0",
   "metadata": {},
   "source": [
    "## 🎯 Learning Objectives\n",
    "- Understand the concept of resampling with replacement\n",
    "- Apply the bootstrap method to estimate confidence intervals\n",
    "- Use permutation tests for hypothesis testing\n",
    "- Simulate outcomes using Monte Carlo methods"
   ]
  },
  {
   "cell_type": "markdown",
   "id": "2ef3ecd1",
   "metadata": {},
   "source": [
    "## 🔁 Bootstrap Resampling\n",
    "Bootstrap is a technique for estimating the distribution of a statistic by sampling with replacement from the original data."
   ]
  },
  {
   "cell_type": "code",
   "execution_count": null,
   "id": "f05fbc2c",
   "metadata": {},
   "outputs": [],
   "source": [
    "import numpy as np\n",
    "import matplotlib.pyplot as plt\n",
    "\n",
    "# Simulate original data\n",
    "np.random.seed(42)\n",
    "data = np.random.normal(100, 15, 200)\n",
    "\n",
    "# Bootstrap resampling\n",
    "boot_means = [np.mean(np.random.choice(data, size=len(data), replace=True)) for _ in range(1000)]\n",
    "\n",
    "# Plot distribution\n",
    "plt.hist(boot_means, bins=30, edgecolor='k')\n",
    "plt.title('Bootstrap Distribution of the Mean')\n",
    "plt.xlabel('Mean Value')\n",
    "plt.ylabel('Frequency')\n",
    "plt.show()"
   ]
  },
  {
   "cell_type": "code",
   "execution_count": null,
   "id": "f8bbbdf9",
   "metadata": {},
   "outputs": [],
   "source": [
    "ci_lower = np.percentile(boot_means, 2.5)\n",
    "ci_upper = np.percentile(boot_means, 97.5)\n",
    "print(f\"95% Confidence Interval: ({ci_lower:.2f}, {ci_upper:.2f})\")"
   ]
  },
  {
   "cell_type": "markdown",
   "id": "e87e9e84",
   "metadata": {},
   "source": [
    "## 🔄 Permutation Test\n",
    "Permutation testing assesses the likelihood of observing a difference between groups by randomly reassigning group labels."
   ]
  },
  {
   "cell_type": "code",
   "execution_count": null,
   "id": "8b94a8be",
   "metadata": {},
   "outputs": [],
   "source": [
    "# Simulate two groups\n",
    "group1 = np.random.normal(60, 10, 30)\n",
    "group2 = np.random.normal(62, 10, 30)\n",
    "observed_diff = np.mean(group1) - np.mean(group2)\n",
    "\n",
    "# Combine and permute\n",
    "diffs = []\n",
    "combined = np.concatenate([group1, group2])\n",
    "for _ in range(1000):\n",
    "    np.random.shuffle(combined)\n",
    "    new_group1 = combined[:30]\n",
    "    new_group2 = combined[30:]\n",
    "    diffs.append(np.mean(new_group1) - np.mean(new_group2))"
   ]
  },
  {
   "cell_type": "code",
   "execution_count": null,
   "id": "7c9c77af",
   "metadata": {},
   "outputs": [],
   "source": [
    "# Plot permutation distribution\n",
    "plt.hist(diffs, bins=30, edgecolor='k')\n",
    "plt.axvline(observed_diff, color='red', linestyle='--', label='Observed Diff')\n",
    "plt.title('Permutation Test Distribution')\n",
    "plt.xlabel('Difference in Means')\n",
    "plt.legend()\n",
    "plt.show()\n",
    "\n",
    "# Compute p-value\n",
    "p_value = np.mean(np.abs(diffs) >= np.abs(observed_diff))\n",
    "print(f\"Observed Diff: {observed_diff:.2f}, P-value: {p_value:.4f}\")"
   ]
  },
  {
   "cell_type": "markdown",
   "id": "92f11d17",
   "metadata": {},
   "source": [
    "## 🎲 Monte Carlo Simulation\n",
    "Monte Carlo methods use repeated random sampling to estimate results.\n",
    "\n",
    "**Example**: Estimating the probability of rolling a sum of 7 with two dice."
   ]
  },
  {
   "cell_type": "code",
   "execution_count": null,
   "id": "fb7f6334",
   "metadata": {},
   "outputs": [],
   "source": [
    "simulations = 10000\n",
    "sums = [np.sum(np.random.randint(1, 7, 2)) for _ in range(simulations)]\n",
    "\n",
    "# Estimate probability\n",
    "prob_7 = np.mean(np.array(sums) == 7)\n",
    "print(f\"Estimated probability of rolling 7: {prob_7:.4f}\")"
   ]
  },
  {
   "cell_type": "markdown",
   "id": "b6d25ec4",
   "metadata": {},
   "source": [
    "## ✅ Practice Exercises\n",
    "1. Simulate a bootstrap confidence interval for the median of a dataset.\n",
    "2. Create a permutation test for difference in medians between two groups.\n",
    "3. Simulate drawing 5 cards from a deck — estimate the probability of getting two hearts.\n",
    "4. Reflect: When would you use resampling instead of parametric tests?\n",
    "5. Adjust bootstrap sample size — how does it affect CI width?"
   ]
  }
 ],
 "metadata": {},
 "nbformat": 4,
 "nbformat_minor": 5
}
