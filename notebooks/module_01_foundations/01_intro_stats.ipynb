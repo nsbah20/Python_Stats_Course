{
 "cells": [
  {
   "cell_type": "markdown",
   "id": "9834495e",
   "metadata": {},
   "source": [
    "# Module 1: Foundations of Statistical Thinking\n",
    "Welcome to the first module of the course *Statistical Methods in Python for Data Analysts*. In this module, we will cover the basics of statistics and probability that form the foundation for all advanced methods."
   ]
  },
  {
   "cell_type": "markdown",
   "id": "1c24adfa",
   "metadata": {},
   "source": [
    "## 📌 Learning Objectives\n",
    "- Understand the difference between descriptive and inferential statistics\n",
    "- Recognize different types of data and levels of measurement\n",
    "- Explore common probability distributions\n",
    "- Practice basic statistical summaries and visualizations"
   ]
  },
  {
   "cell_type": "markdown",
   "id": "9597a76e",
   "metadata": {},
   "source": [
    "## 1. Descriptive vs Inferential Statistics\n",
    "**Descriptive statistics** summarize or describe the main features of a dataset.\n",
    "\n",
    "**Inferential statistics** use a sample to make inferences or predictions about a population.\n",
    "\n",
    "Examples:\n",
    "- Descriptive: Mean income of a surveyed group\n",
    "- Inferential: Estimating the mean income of a city's population using the sample"
   ]
  },
  {
   "cell_type": "code",
   "execution_count": 1,
   "id": "927fd1ad",
   "metadata": {},
   "outputs": [
    {
     "data": {
      "application/vnd.microsoft.datawrangler.viewer.v0+json": {
       "columns": [
        {
         "name": "index",
         "rawType": "object",
         "type": "string"
        },
        {
         "name": "Income",
         "rawType": "float64",
         "type": "float"
        }
       ],
       "ref": "3e131491-a66f-499a-82d9-8ca6e450ffd7",
       "rows": [
        [
         "count",
         "1000.0"
        ],
        [
         "mean",
         "50289.980837334886"
        ],
        [
         "std",
         "14688.239072695133"
        ],
        [
         "min",
         "1380.9898989639114"
        ],
        [
         "25%",
         "40286.14541806473"
        ],
        [
         "50%",
         "50379.509183523325"
        ],
        [
         "75%",
         "59719.15813209395"
        ],
        [
         "max",
         "107790.97235982082"
        ]
       ],
       "shape": {
        "columns": 1,
        "rows": 8
       }
      },
      "text/html": [
       "<div>\n",
       "<style scoped>\n",
       "    .dataframe tbody tr th:only-of-type {\n",
       "        vertical-align: middle;\n",
       "    }\n",
       "\n",
       "    .dataframe tbody tr th {\n",
       "        vertical-align: top;\n",
       "    }\n",
       "\n",
       "    .dataframe thead th {\n",
       "        text-align: right;\n",
       "    }\n",
       "</style>\n",
       "<table border=\"1\" class=\"dataframe\">\n",
       "  <thead>\n",
       "    <tr style=\"text-align: right;\">\n",
       "      <th></th>\n",
       "      <th>Income</th>\n",
       "    </tr>\n",
       "  </thead>\n",
       "  <tbody>\n",
       "    <tr>\n",
       "      <th>count</th>\n",
       "      <td>1000.000000</td>\n",
       "    </tr>\n",
       "    <tr>\n",
       "      <th>mean</th>\n",
       "      <td>50289.980837</td>\n",
       "    </tr>\n",
       "    <tr>\n",
       "      <th>std</th>\n",
       "      <td>14688.239073</td>\n",
       "    </tr>\n",
       "    <tr>\n",
       "      <th>min</th>\n",
       "      <td>1380.989899</td>\n",
       "    </tr>\n",
       "    <tr>\n",
       "      <th>25%</th>\n",
       "      <td>40286.145418</td>\n",
       "    </tr>\n",
       "    <tr>\n",
       "      <th>50%</th>\n",
       "      <td>50379.509184</td>\n",
       "    </tr>\n",
       "    <tr>\n",
       "      <th>75%</th>\n",
       "      <td>59719.158132</td>\n",
       "    </tr>\n",
       "    <tr>\n",
       "      <th>max</th>\n",
       "      <td>107790.972360</td>\n",
       "    </tr>\n",
       "  </tbody>\n",
       "</table>\n",
       "</div>"
      ],
      "text/plain": [
       "              Income\n",
       "count    1000.000000\n",
       "mean    50289.980837\n",
       "std     14688.239073\n",
       "min      1380.989899\n",
       "25%     40286.145418\n",
       "50%     50379.509184\n",
       "75%     59719.158132\n",
       "max    107790.972360"
      ]
     },
     "execution_count": 1,
     "metadata": {},
     "output_type": "execute_result"
    }
   ],
   "source": [
    "# Example: Summary statistics with pandas\n",
    "import pandas as pd\n",
    "import numpy as np\n",
    "\n",
    "# Simulate sample data\n",
    "np.random.seed(42)\n",
    "income = np.random.normal(loc=50000, scale=15000, size=1000)\n",
    "df = pd.DataFrame({'Income': income})\n",
    "df.describe()"
   ]
  },
  {
   "cell_type": "markdown",
   "id": "af045423",
   "metadata": {},
   "source": [
    "## 2. Types of Data\n",
    "- **Nominal**: Categories without order (e.g., gender, colors)\n",
    "- **Ordinal**: Categories with order (e.g., rating scales)\n",
    "- **Interval**: Numeric scales without true zero (e.g., temperature in Celsius)\n",
    "- **Ratio**: Numeric scales with true zero (e.g., income, age)"
   ]
  },
  {
   "cell_type": "markdown",
   "id": "e1f44b6e",
   "metadata": {},
   "source": [
    "## 3. Probability Distributions\n",
    "Let's explore a few key distributions using plots:\n",
    "- Normal distribution\n",
    "- Binomial distribution\n",
    "- Poisson distribution"
   ]
  },
  {
   "cell_type": "code",
   "execution_count": 2,
   "id": "7cd3ad62",
   "metadata": {},
   "outputs": [
    {
     "data": {
      "image/png": "[encoded data removed]",
      "text/plain": [
       "<Figure size 640x480 with 1 Axes>"
      ]
     },
     "metadata": {},
     "output_type": "display_data"
    }
   ],
   "source": [
    "# Plotting distributions\n",
    "import matplotlib.pyplot as plt\n",
    "import seaborn as sns\n",
    "from scipy.stats import norm, binom, poisson\n",
    "\n",
    "sns.set(style='whitegrid')\n",
    "\n",
    "# Normal distribution\n",
    "x = np.linspace(-4, 4, 1000)\n",
    "plt.plot(x, norm.pdf(x, 0, 1))\n",
    "plt.title('Standard Normal Distribution')\n",
    "plt.xlabel('x')\n",
    "plt.ylabel('Probability Density')\n",
    "plt.show()"
   ]
  },
  {
   "cell_type": "markdown",
   "id": "f56d11b8",
   "metadata": {},
   "source": [
    "## ✅ Exercise\n",
    "Simulate and plot a binomial and a Poisson distribution. Try using `scipy.stats` and `matplotlib`.\n",
    "\n",
    "Hint:\n",
    "- `binom.pmf(k, n, p)`\n",
    "- `poisson.pmf(k, mu)`"
   ]
  }
 ],
 "metadata": {
  "kernelspec": {
   "display_name": "base",
   "language": "python",
   "name": "python3"
  },
  "language_info": {
   "codemirror_mode": {
    "name": "ipython",
    "version": 3
   },
   "file_extension": ".py",
   "mimetype": "text/x-python",
   "name": "python",
   "nbconvert_exporter": "python",
   "pygments_lexer": "ipython3",
   "version": "3.12.7"
  }
 },
 "nbformat": 4,
 "nbformat_minor": 5
}
