{
 "cells": [
  {
   "cell_type": "markdown",
   "id": "f2607793",
   "metadata": {},
   "source": [
    "# Module 1: Foundations of Statistical Thinking\n",
    "Learn about descriptive vs inferential statistics, types of data, and basic probability distributions."
   ]
  }
 ],
 "metadata": {},
 "nbformat": 4,
 "nbformat_minor": 5
}
