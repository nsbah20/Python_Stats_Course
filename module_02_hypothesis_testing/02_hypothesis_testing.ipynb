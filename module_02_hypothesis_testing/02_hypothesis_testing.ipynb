{
 "cells": [
  {
   "cell_type": "markdown",
   "id": "62cff2dd",
   "metadata": {},
   "source": [
    "# Module 2: Hypothesis Testing\n",
    "In this module, we'll explore hypothesis testing — a fundamental concept in inferential statistics. Hypothesis testing allows us to make data-driven decisions by comparing groups or assessing claims about populations."
   ]
  },
  {
   "cell_type": "markdown",
   "id": "a48d885f",
   "metadata": {},
   "source": [
    "## 🎯 Learning Objectives\n",
    "- Understand null and alternative hypotheses\n",
    "- Differentiate between Type I and Type II errors\n",
    "- Perform and interpret t-tests and chi-squared tests\n",
    "- Construct confidence intervals\n",
    "- Use p-values to assess statistical significance"
   ]
  },
  {
   "cell_type": "markdown",
   "id": "193bdccd",
   "metadata": {},
   "source": [
    "## 🧠 What is Hypothesis Testing?\n",
    "Hypothesis testing evaluates assumptions (hypotheses) about a population parameter using sample data.\n",
    "\n",
    "**Steps in Hypothesis Testing:**\n",
    "1. State the null hypothesis ($H_0$) and alternative hypothesis ($H_1$)\n",
    "2. Choose a significance level (commonly $\\alpha = 0.05$)\n",
    "3. Select and perform a test (t-test, chi-squared, etc.)\n",
    "4. Calculate a test statistic and p-value\n",
    "5. Compare p-value to $\\alpha$ and make a decision"
   ]
  },
  {
   "cell_type": "markdown",
   "id": "26b15324",
   "metadata": {},
   "source": [
    "## 🔎 Type I and Type II Errors\n",
    "- **Type I Error** ($\\alpha$): Rejecting a true null hypothesis (false positive)\n",
    "- **Type II Error** ($\\beta$): Failing to reject a false null hypothesis (false negative)"
   ]
  },
  {
   "cell_type": "markdown",
   "id": "409a3b71",
   "metadata": {},
   "source": [
    "## 📦 Example 1: Two-Sample T-Test\n",
    "Let's test if two independent groups have significantly different means."
   ]
  },
  {
   "cell_type": "code",
   "execution_count": null,
   "id": "8d4c856e",
   "metadata": {},
   "outputs": [],
   "source": [
    "import numpy as np\n",
    "from scipy.stats import ttest_ind\n",
    "import matplotlib.pyplot as plt\n",
    "\n",
    "# Simulate two groups\n",
    "np.random.seed(42)\n",
    "group1 = np.random.normal(60, 10, 50)\n",
    "group2 = np.random.normal(65, 12, 50)\n",
    "\n",
    "# Perform two-sample t-test\n",
    "stat, p = ttest_ind(group1, group2)\n",
    "print(f'T-statistic: {stat:.2f}, P-value: {p:.4f}')"
   ]
  },
  {
   "cell_type": "markdown",
   "id": "77a3a7a2",
   "metadata": {},
   "source": [
    "**Interpretation**: If p-value < 0.05, we reject the null hypothesis and conclude that there is a significant difference between the groups."
   ]
  },
  {
   "cell_type": "markdown",
   "id": "49fb1aba",
   "metadata": {},
   "source": [
    "## 📊 Visualizing the Groups"
   ]
  },
  {
   "cell_type": "code",
   "execution_count": null,
   "id": "7e609c1c",
   "metadata": {},
   "outputs": [],
   "source": [
    "plt.hist(group1, alpha=0.7, label='Group 1')\n",
    "plt.hist(group2, alpha=0.7, label='Group 2')\n",
    "plt.legend()\n",
    "plt.title('Score Distributions')\n",
    "plt.xlabel('Score')\n",
    "plt.ylabel('Frequency')\n",
    "plt.show()"
   ]
  },
  {
   "cell_type": "markdown",
   "id": "dc917c9c",
   "metadata": {},
   "source": [
    "## 🧮 Example 2: Chi-Squared Test for Independence\n",
    "This test determines whether two categorical variables are associated."
   ]
  },
  {
   "cell_type": "code",
   "execution_count": null,
   "id": "ab764071",
   "metadata": {},
   "outputs": [],
   "source": [
    "import pandas as pd\n",
    "from scipy.stats import chi2_contingency\n",
    "\n",
    "# Example contingency table\n",
    "data = pd.DataFrame({\n",
    "    'Gender': ['M', 'F', 'M', 'F', 'M', 'F'],\n",
    "    'Preference': ['A', 'B', 'B', 'A', 'A', 'B']\n",
    "})\n",
    "contingency = pd.crosstab(data['Gender'], data['Preference'])\n",
    "chi2, p, dof, expected = chi2_contingency(contingency)\n",
    "print(f'Chi-squared: {chi2:.2f}, P-value: {p:.4f}')"
   ]
  },
  {
   "cell_type": "markdown",
   "id": "c3ffd276",
   "metadata": {},
   "source": [
    "**Interpretation**: A low p-value suggests an association between the two categorical variables."
   ]
  },
  {
   "cell_type": "markdown",
   "id": "9885b445",
   "metadata": {},
   "source": [
    "## 📏 Confidence Intervals (CI)\n",
    "A confidence interval gives a range where the true population parameter is likely to fall.\n",
    "\n",
    "We'll compute a 95% CI for the mean of one of our groups."
   ]
  },
  {
   "cell_type": "code",
   "execution_count": null,
   "id": "53a5d841",
   "metadata": {},
   "outputs": [],
   "source": [
    "import scipy.stats as stats\n",
    "\n",
    "mean = np.mean(group1)\n",
    "sem = stats.sem(group1)\n",
    "ci = stats.t.interval(0.95, len(group1)-1, loc=mean, scale=sem)\n",
    "print(f'95% CI for the mean: {ci}')"
   ]
  },
  {
   "cell_type": "markdown",
   "id": "4b3df865",
   "metadata": {},
   "source": [
    "## ✅ Practice Exercises\n",
    "1. Simulate two groups with overlapping distributions and test for a significant difference.\n",
    "2. Create a contingency table with survey data and run a chi-squared test.\n",
    "3. Construct a 99% confidence interval for a sample mean.\n",
    "4. Reflect: What does a p-value of 0.001 mean in context?\n",
    "5. Describe when you'd use a one-sample vs two-sample t-test."
   ]
  }
 ],
 "metadata": {},
 "nbformat": 4,
 "nbformat_minor": 5
}
